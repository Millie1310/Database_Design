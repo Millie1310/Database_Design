{
    "metadata": {
        "kernelspec": {
            "name": "SQL",
            "display_name": "SQL",
            "language": "sql"
        },
        "language_info": {
            "name": "sql",
            "version": ""
        }
    },
    "nbformat_minor": 2,
    "nbformat": 4,
    "cells": [
        {
            "cell_type": "markdown",
            "source": [
                "# DML Script for Inserting the Data"
            ],
            "metadata": {
                "language": "sql",
                "azdata_cell_guid": "27d15411-0526-43ee-96af-dc71deca5ea8"
            },
            "attachments": {}
        },
        {
            "cell_type": "markdown",
            "source": [
                "### **Step 1: Overview of the DML Script**\n",
                "\n",
                "The DML script populates the tables in the Fitness\\_FInal\\_Presentation database by inserting data into the dimension (dim) and fact (f) tables. This is done by selecting data from the source tables (dbo.\\*), ensuring data integrity and alignment with the new schema."
            ],
            "metadata": {
                "azdata_cell_guid": "4450fa3d-7f76-4496-992c-880847928671"
            },
            "attachments": {}
        },
        {
            "cell_type": "markdown",
            "source": [
                "### **Step 2: Insert Data into dim.DayType**\n",
                "\n",
                "This step copies distinct DayType\\_ID and DayType values from dbo.dim\\_DayType into dim.DayType.\n",
                "\n",
                "```\n",
                "sqlCopy codeINSERT INTO dim.DayType (DayType_ID, DayType)\n",
                "SELECT DISTINCT \n",
                "    DayType_ID, \n",
                "    DayType\n",
                "FROM dbo.Dim_DayType;\n",
                "\n",
                "```"
            ],
            "metadata": {
                "azdata_cell_guid": "0d11689d-6849-446c-90e6-4ba7e5d4b3a5"
            },
            "attachments": {}
        },
        {
            "cell_type": "markdown",
            "source": [
                "### **Step 3: Insert Data into dim.Activity**\n",
                "\n",
                "### This step transfers distinct Activity\\_ID and Activity  <span style=\"font-size: 14px;\">&nbsp;values from dbo.Dim_Activity to dim.Activity.</span> \n",
                "\n",
                "```\n",
                "SELECT DISTINCT \n",
                "    Activity_ID, \n",
                "    Activity\n",
                "FROM dbo.Dim_Activity;\n",
                "\n",
                "```\n",
                "\n",
                "* * *"
            ],
            "metadata": {
                "azdata_cell_guid": "755447de-1af8-4b9f-8aa2-a7d0e1a3f728"
            },
            "attachments": {}
        },
        {
            "cell_type": "markdown",
            "source": [
                "### **Step 4: Insert Data into dim.SleepQuality** \n",
                "\n",
                "### This step inserts distinct SleepQuality and SleepID <span style=\"font-size: 14px;\">&nbsp;values from&nbsp;dbo.Dim_SleepQuality into dim.SleepQuality</span><span style=\"font-size: 14px;\">.</span>\n",
                "\n",
                "```\n",
                "sqlCopy codeINSERT INTO dim.SleepQuality (SleepQuality, SleepID)\n",
                "SELECT DISTINCT \n",
                "    SleepQuality, \n",
                "    SleepID\n",
                "FROM dbo.Dim_SleepQuality;\n",
                "\n",
                "```"
            ],
            "metadata": {
                "language": "sql",
                "azdata_cell_guid": "493ebadf-6efe-4bfc-98f7-d944ceb0048c"
            },
            "attachments": {}
        },
        {
            "cell_type": "markdown",
            "source": [
                "### **Step 5: Insert Data into** f.Steps \n",
                "\n",
                "### This step populates the f.Steps  fact table with sleep-related metrics by joining data from dbo.Sleep, dim.DayType, and dim.SleepQuality. \n",
                "\n",
                "```\n",
                "sqlCopy codeINSERT INTO f.Sleep (SleepID, Full_date, DeepSleepTime, ShallowSleepTime, WakeTime, \n",
                "                     MonthName, Year, SleepQuality, DayName, DayType_ID)\n",
                "SELECT DISTINCT\n",
                "    s.SleepID, \n",
                "    s.Full_date, \n",
                "    s.deepSleepTime, \n",
                "    s.shallowSleepTime, \n",
                "    s.wakeTime, \n",
                "    s.[Month Name], \n",
                "    s.Year, \n",
                "    s.SleepQuality, \n",
                "    s.[Day Name],\n",
                "    s.DayType_ID\n",
                "FROM dbo.Sleep s\n",
                "JOIN dim.DayType dt\n",
                "    ON s.DayType = dt.DayType\n",
                "JOIN dim.SleepQuality sq\n",
                "    ON s.SleepID = sq.SleepID;\n",
                "\n",
                "```"
            ],
            "metadata": {
                "language": "sql",
                "azdata_cell_guid": "5d2ccb3f-52fe-4a3c-9bec-57cb8829e3bd"
            },
            "attachments": {}
        },
        {
            "cell_type": "markdown",
            "source": [
                "### **Step 6: Insert Data into f.Steps**\n",
                "\n",
                "### This step fills the f.Steps <span style=\"font-size: 14px;\">&nbsp;fact table with metrics like&nbsp;</span>  Steps,Distance<span style=\"font-size: 14px;\">, and Calories</span><span style=\"font-size: 14px;\">, using data from dbo.Steps and dim.Activity</span><span style=\"font-size: 14px;\">.</span>\n",
                "\n",
                "```\n",
                "sqlCopy codeINSERT INTO f.Steps (Activity_ID, Full_date, Day_Name, Steps, Distance, RunDistance, Calories, Year, \n",
                "                     MonthName, Day_Type, Full_date_Year, Full_date_Quarter, Full_date_Month)\n",
                "SELECT DISTINCT\n",
                "    a.Activity_ID, \n",
                "    s.Full_date, \n",
                "    s.Day_Name, \n",
                "    s.steps, \n",
                "    s.distance, \n",
                "    s.runDistance, \n",
                "    s.calories, \n",
                "    s.Year, \n",
                "    s.[Month Name], \n",
                "    s.DayType, \n",
                "    [Full_date (Year)] AS Full_date_Year, \n",
                "    [Full_date (Quarter)] AS Full_date_Quarter,\n",
                "    [Full_date (Month)] AS Full_date_Month\n",
                "FROM dbo.Steps s\n",
                "JOIN dim.Activity a\n",
                "    ON s.Activity_ID = a.Activity_ID;\n",
                "\n",
                "```"
            ],
            "metadata": {
                "language": "sql",
                "azdata_cell_guid": "04bf23bb-cf90-410c-9af7-dbf088e576f0"
            },
            "attachments": {}
        },
        {
            "cell_type": "markdown",
            "source": [
                "### Here Our DML file is ready, Now we can play with our data.\n",
                "\n",
                "### Thankyou For reading."
            ],
            "metadata": {
                "language": "sql",
                "azdata_cell_guid": "e1e5c045-e81d-4d2b-9b0e-a494a27e02d5"
            },
            "attachments": {}
        }
    ]
}