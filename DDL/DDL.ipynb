{
    "metadata": {
        "kernelspec": {
            "name": "SQL",
            "display_name": "SQL",
            "language": "sql"
        },
        "language_info": {
            "name": "sql",
            "version": ""
        }
    },
    "nbformat_minor": 2,
    "nbformat": 4,
    "cells": [
        {
            "cell_type": "code",
            "source": [
                ""
            ],
            "metadata": {
                "azdata_cell_guid": "66959ddc-8835-42c6-8e8b-7d38ec491fb6",
                "language": "sql"
            },
            "outputs": [],
            "execution_count": null
        },
        {
            "cell_type": "markdown",
            "source": [
                "# DDL Script for Creating tables."
            ],
            "metadata": {
                "azdata_cell_guid": "bc0e9d3f-57c5-496d-a6cc-8b093d0810b1"
            }
        }
    ]
}