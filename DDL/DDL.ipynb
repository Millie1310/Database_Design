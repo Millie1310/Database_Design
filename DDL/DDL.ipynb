{
    "metadata": {
        "kernelspec": {
            "name": "SQL",
            "display_name": "SQL",
            "language": "sql"
        },
        "language_info": {
            "name": "sql",
            "version": ""
        }
    },
    "nbformat_minor": 2,
    "nbformat": 4,
    "cells": [
        {
            "cell_type": "markdown",
            "source": [
                "# DDL Script For Fitness Data."
            ],
            "metadata": {
                "azdata_cell_guid": "bc0e9d3f-57c5-496d-a6cc-8b093d0810b1"
            },
            "attachments": {}
        },
        {
            "cell_type": "markdown",
            "source": [
                "##  About the Dataset\n",
                "\n",
                "## \n",
                "\n",
                "The **Fitness Dataset** used in this project tracks daily activities, sleep patterns, and overall wellness. The goal is to analyze and organize this data in a structured way to support advanced analytics and reporting. The dataset is divided into two main components:\n",
                "\n",
                "1. **Dimension Data**: These tables contain descriptive attributes about the key entities. For instance:\n",
                "    \n",
                "    - **DayType :** Classifies each day as a \"weekday\" or \"weekend.\"\n",
                "    - **Activity:** Lists different types of activities, such as running, walking, or resting.\n",
                "    - **SleepQuality:** Rates the quality of sleep as \"Good,\" \"Poor,\" or \"Excellent.\"\n",
                "2. **Fact Data**: These tables store the measurable aspects of the dataset:\n",
                "    \n",
                "    - **Sleep Table**: Tracks sleep duration, deep sleep vs. shallow sleep, wake times, and associated sleep quality.\n",
                "    - **Steps Table**<span style=\"font-size: 14px; color: var(--vscode-foreground);\">:&nbsp;</span> Records daily steps, distances covered, calories burned, and running distances."
            ],
            "metadata": {
                "azdata_cell_guid": "d0d60d79-12f3-40ad-8262-952b67d1f527"
            },
            "attachments": {}
        },
        {
            "cell_type": "markdown",
            "source": [
                "### **Step 1: Use the Correct Database**\n",
                "\n",
                "I start by setting the context to use the database where our schemas and tables will reside."
            ],
            "metadata": {
                "azdata_cell_guid": "cb179f67-5532-46d1-a187-72963f0826bf"
            },
            "attachments": {}
        },
        {
            "cell_type": "code",
            "source": [
                "USE Fitness_Final_Presentation;\r\n",
                "GO"
            ],
            "metadata": {
                "azdata_cell_guid": "e77d71ff-a04e-4879-a088-414d2d0fa4dd",
                "language": "sql"
            },
            "outputs": [
                {
                    "output_type": "display_data",
                    "data": {
                        "text/html": "Commands completed successfully."
                    },
                    "metadata": {}
                },
                {
                    "output_type": "display_data",
                    "data": {
                        "text/html": "Total execution time: 00:00:00.013"
                    },
                    "metadata": {}
                }
            ],
            "execution_count": 1
        },
        {
            "cell_type": "markdown",
            "source": [
                "### **Step 2: Create Schemas**\n",
                "\n",
                "To logically organize my tables, I have created two schemas:\n",
                "\n",
                "1. **dim:** Stores dimension tables.\n",
                "2. **f:** Stores fact tables."
            ],
            "metadata": {
                "language": "sql",
                "azdata_cell_guid": "57787df1-b5ab-43f7-b2e9-f19b812ed06d"
            },
            "attachments": {}
        },
        {
            "cell_type": "code",
            "source": [
                "IF NOT EXISTS (SELECT * FROM sys.schemas WHERE name = 'dim') \r\n",
                "BEGIN\r\n",
                "    EXEC sp_executesql N'CREATE SCHEMA dim AUTHORIZATION dbo;'\r\n",
                "END;\r\n",
                "GO\r\n",
                "\r\n",
                "IF NOT EXISTS (SELECT * FROM sys.schemas WHERE name = 'f') \r\n",
                "BEGIN\r\n",
                "    EXEC sp_executesql N'CREATE SCHEMA f AUTHORIZATION dbo;'\r\n",
                "END;\r\n",
                "GO\r\n",
                ""
            ],
            "metadata": {
                "language": "sql",
                "azdata_cell_guid": "fc4b4d9a-9466-4424-b1d6-d00d36b0b3f4"
            },
            "outputs": [
                {
                    "output_type": "display_data",
                    "data": {
                        "text/html": "Commands completed successfully."
                    },
                    "metadata": {}
                },
                {
                    "output_type": "display_data",
                    "data": {
                        "text/html": "Commands completed successfully."
                    },
                    "metadata": {}
                },
                {
                    "output_type": "display_data",
                    "data": {
                        "text/html": "Total execution time: 00:00:00.007"
                    },
                    "metadata": {}
                }
            ],
            "execution_count": 2
        },
        {
            "cell_type": "markdown",
            "source": [
                "### **Step 3: Create the DayType Dimension Table**\n",
                "\n",
                "The DayType table classifies days as either **weekday** or **weekend**. It has:\n",
                "\n",
                "- A primary key column  DayType\\_ID.\n",
                "- A descriptive column  DayType."
            ],
            "metadata": {
                "language": "sql",
                "azdata_cell_guid": "2a45a674-a6c2-48e4-8948-5753aa1e90b5"
            },
            "attachments": {}
        },
        {
            "cell_type": "code",
            "source": [
                "IF NOT EXISTS (SELECT * FROM INFORMATION_SCHEMA.TABLES WHERE TABLE_SCHEMA = 'dim' AND TABLE_NAME = 'DayType')\r\n",
                "BEGIN\r\n",
                "    CREATE TABLE dim.DayType (\r\n",
                "        DayType_ID BIGINT NOT NULL,\r\n",
                "        DayType NVARCHAR(MAX) NULL\r\n",
                "    );\r\n",
                "\r\n",
                "    ALTER TABLE dim.DayType\r\n",
                "    ADD CONSTRAINT PK_DayType PRIMARY KEY (DayType_ID);\r\n",
                "END;\r\n",
                "GO\r\n",
                ""
            ],
            "metadata": {
                "language": "sql",
                "azdata_cell_guid": "4113329a-b8ca-442c-8c58-b0564211e0e9"
            },
            "outputs": [
                {
                    "output_type": "display_data",
                    "data": {
                        "text/html": "Commands completed successfully."
                    },
                    "metadata": {}
                },
                {
                    "output_type": "display_data",
                    "data": {
                        "text/html": "Total execution time: 00:00:00.022"
                    },
                    "metadata": {}
                }
            ],
            "execution_count": 3
        },
        {
            "cell_type": "markdown",
            "source": [
                "### **Step 4: Create the Activity Dimension Table**\n",
                "\n",
                "The Activity table stores different types of activities, such as running or walking. It includes:\n",
                "\n",
                "- A primary key column Activity\\_ID.\n",
                "- A descriptive column Activity ."
            ],
            "metadata": {
                "language": "sql",
                "azdata_cell_guid": "14aab8dd-f130-4ea6-ab19-d78b5e0e1ead"
            },
            "attachments": {}
        },
        {
            "cell_type": "code",
            "source": [
                "IF NOT EXISTS (SELECT * FROM INFORMATION_SCHEMA.TABLES WHERE TABLE_SCHEMA = 'dim' AND TABLE_NAME = 'Activity')\r\n",
                "BEGIN\r\n",
                "    CREATE TABLE dim.Activity (\r\n",
                "        Activity_ID BIGINT NOT NULL,\r\n",
                "        Activity NVARCHAR(MAX) NULL\r\n",
                "    );\r\n",
                "\r\n",
                "    ALTER TABLE dim.Activity\r\n",
                "    ADD CONSTRAINT PK_Activity PRIMARY KEY (Activity_ID);\r\n",
                "END;\r\n",
                "GO\r\n",
                ""
            ],
            "metadata": {
                "language": "sql",
                "azdata_cell_guid": "c0ca645e-8a67-4c02-9d32-ada976d2dd19"
            },
            "outputs": [
                {
                    "output_type": "display_data",
                    "data": {
                        "text/html": "Commands completed successfully."
                    },
                    "metadata": {}
                },
                {
                    "output_type": "display_data",
                    "data": {
                        "text/html": "Total execution time: 00:00:00.022"
                    },
                    "metadata": {}
                }
            ],
            "execution_count": 4
        },
        {
            "cell_type": "markdown",
            "source": [
                "### **Step 5: Create the  SleepQuality Dimension Table**\n",
                "\n",
                "The SleepQuality table describes different sleep quality ratings (e.g., Good, Poor, Excellent). It includes:\n",
                "\n",
                "- A primary key column Sleep\\_ID.\n",
                "- A descriptive column SleepQuality."
            ],
            "metadata": {
                "language": "sql",
                "azdata_cell_guid": "30f2802b-1021-41b6-8a02-1fefc96423ea"
            },
            "attachments": {}
        },
        {
            "cell_type": "code",
            "source": [
                "IF NOT EXISTS (SELECT * FROM INFORMATION_SCHEMA.TABLES WHERE TABLE_SCHEMA = 'dim' AND TABLE_NAME = 'SleepQuality')\r\n",
                "BEGIN\r\n",
                "    CREATE TABLE dim.SleepQuality (\r\n",
                "        SleepID BIGINT NOT NULL,\r\n",
                "        SleepQuality NVARCHAR(MAX) NULL\r\n",
                "    );\r\n",
                "\r\n",
                "    ALTER TABLE dim.SleepQuality\r\n",
                "    ADD CONSTRAINT PK_SleepID PRIMARY KEY (SleepID);\r\n",
                "END;\r\n",
                "GO\r\n",
                ""
            ],
            "metadata": {
                "language": "sql",
                "azdata_cell_guid": "7cedb899-d484-4e22-b93c-bee7b0fc9dbd"
            },
            "outputs": [
                {
                    "output_type": "display_data",
                    "data": {
                        "text/html": "Commands completed successfully."
                    },
                    "metadata": {}
                },
                {
                    "output_type": "display_data",
                    "data": {
                        "text/html": "Total execution time: 00:00:00.024"
                    },
                    "metadata": {}
                }
            ],
            "execution_count": 5
        },
        {
            "cell_type": "markdown",
            "source": [
                "### **Step 6: Create the Sleep Fact Table**\n",
                "\n",
                "The Sleep table stores data about sleep patterns. It includes:\n",
                "\n",
                "- Foreign keys to DayType and SleepQuality.\n",
                "- Attributes like Full\\_date,DeepSleepTime,ShallowSleepTime , etc."
            ],
            "metadata": {
                "language": "sql",
                "azdata_cell_guid": "6ca3db1a-d05c-4eef-aa04-5e3fad5027e2"
            },
            "attachments": {}
        },
        {
            "cell_type": "code",
            "source": [
                "IF NOT EXISTS (SELECT * FROM INFORMATION_SCHEMA.TABLES WHERE TABLE_SCHEMA = 'f' AND TABLE_NAME = 'Sleep')\r\n",
                "BEGIN\r\n",
                "    CREATE TABLE f.Sleep (\r\n",
                "        SleepID BIGINT NOT NULL,\r\n",
                "        Full_date DATETIME2(0) NULL,\r\n",
                "        DeepSleepTime BIGINT NULL,\r\n",
                "        ShallowSleepTime BIGINT NULL,\r\n",
                "        WakeTime BIGINT NULL,\r\n",
                "        MonthName NVARCHAR(MAX) NULL,\r\n",
                "        Year BIGINT NULL,\r\n",
                "        SleepQuality NVARCHAR(MAX) NULL,\r\n",
                "        DayName NVARCHAR(15) NULL,\r\n",
                "        DayType_ID BIGINT NULL\r\n",
                "    );\r\n",
                "\r\n",
                "    ALTER TABLE f.Sleep\r\n",
                "    ADD CONSTRAINT FK_Sleep_DayType FOREIGN KEY (DayType_ID)\r\n",
                "        REFERENCES dim.DayType(DayType_ID);\r\n",
                "\r\n",
                "    ALTER TABLE f.Sleep\r\n",
                "    ADD CONSTRAINT FK_Sleep_SleepQuality FOREIGN KEY (SleepID)\r\n",
                "        REFERENCES dim.SleepQuality(SleepID);\r\n",
                "END;\r\n",
                "GO\r\n",
                ""
            ],
            "metadata": {
                "language": "sql",
                "azdata_cell_guid": "1d574243-43e8-4954-9f06-b28f3d910521"
            },
            "outputs": [
                {
                    "output_type": "display_data",
                    "data": {
                        "text/html": "Commands completed successfully."
                    },
                    "metadata": {}
                },
                {
                    "output_type": "display_data",
                    "data": {
                        "text/html": "Total execution time: 00:00:00.021"
                    },
                    "metadata": {}
                }
            ],
            "execution_count": 6
        },
        {
            "cell_type": "markdown",
            "source": [
                "### **Step 7: Create the Steps Fact Table**\n",
                "\n",
                "The Steps table stores data about physical activity, such as steps taken and calories burned. It includes:\n",
                "\n",
                "- Foreign key to Activity.\n",
                "- Columns like Steps,Distance,RunDistance etc."
            ],
            "metadata": {
                "language": "sql",
                "azdata_cell_guid": "94ce4c46-467d-4b49-b424-0e7d2ced4052"
            },
            "attachments": {}
        },
        {
            "cell_type": "code",
            "source": [
                "IF NOT EXISTS (SELECT * FROM INFORMATION_SCHEMA.TABLES WHERE TABLE_SCHEMA = 'f' AND TABLE_NAME = 'Steps')\r\n",
                "BEGIN\r\n",
                "    CREATE TABLE f.Steps (\r\n",
                "        Activity_ID BIGINT NULL,\r\n",
                "        Full_date DATETIME2(0) NULL,\r\n",
                "        Day_Name NVARCHAR(MAX) NULL,\r\n",
                "        Steps BIGINT NULL,\r\n",
                "        Distance BIGINT NULL,\r\n",
                "        RunDistance BIGINT NULL,\r\n",
                "        Calories BIGINT NULL,\r\n",
                "        Year BIGINT NULL,\r\n",
                "        MonthName NVARCHAR(MAX) NULL,\r\n",
                "        Day_Type NVARCHAR(MAX) NULL,\r\n",
                "        Full_date_Year NVARCHAR(MAX) NULL,\r\n",
                "        Full_date_Quarter NVARCHAR(MAX) NULL,\r\n",
                "        Full_date_Month NVARCHAR(MAX) NULL\r\n",
                "    );\r\n",
                "\r\n",
                "    ALTER TABLE f.Steps\r\n",
                "    ADD CONSTRAINT FK_Steps_Activity FOREIGN KEY (Activity_ID)\r\n",
                "        REFERENCES dim.Activity(Activity_ID);\r\n",
                "END;\r\n",
                "GO\r\n",
                ""
            ],
            "metadata": {
                "language": "sql",
                "azdata_cell_guid": "36d2c2d3-e3bd-4385-b232-24bf221f11fb"
            },
            "outputs": [
                {
                    "output_type": "display_data",
                    "data": {
                        "text/html": "Commands completed successfully."
                    },
                    "metadata": {}
                },
                {
                    "output_type": "display_data",
                    "data": {
                        "text/html": "Total execution time: 00:00:00.020"
                    },
                    "metadata": {}
                }
            ],
            "execution_count": 7
        },
        {
            "cell_type": "markdown",
            "source": [
                "# You did it!"
            ],
            "metadata": {
                "language": "sql",
                "azdata_cell_guid": "5bc37d15-1c12-426b-ac2f-96de360d4eae"
            },
            "attachments": {}
        }
    ]
}